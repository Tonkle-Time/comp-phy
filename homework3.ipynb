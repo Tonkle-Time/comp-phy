{
 "cells": [
  {
   "cell_type": "code",
   "execution_count": 2,
   "id": "eb7b115e-9e86-4376-b00f-39982a11642f",
   "metadata": {},
   "outputs": [],
   "source": [
    "import numpy as np\n",
    "from numpy.linalg import inv, det\n",
    "from numpy.linalg import solve\n",
    "from numpy.linalg import norm"
   ]
  },
  {
   "cell_type": "code",
   "execution_count": 4,
   "id": "fa263b91-a9f5-4f67-ae87-5b2a51497c6f",
   "metadata": {},
   "outputs": [
    {
     "name": "stdout",
     "output_type": "stream",
     "text": [
      "Part A\n",
      "AB =  [[ 7.  0.]\n",
      " [ 7. -7.]]\n",
      "CD not defined: shapes (3,1) and (2,3) not aligned: 1 (dim 1) != 2 (dim 0)\n",
      "EF =\n",
      " [[ 5.  6.  4.]\n",
      " [-3.  9. -6.]\n",
      " [-6.  4. -8.]]\n",
      "Part B\n",
      "A^T B =  [[ 9.  1.]\n",
      " [ 4. -5.]]\n",
      "B D^T not defined: shapes (2,2) and (3,2) not aligned: 2 (dim 1) != 3 (dim 0)\n",
      "D^T F^T not defined: shapes (3,2) and (3,2) not aligned: 2 (dim 1) != 3 (dim 0)\n"
     ]
    }
   ],
   "source": [
    "A = np.array([[1, 2],\n",
    "              [3, -1]], float) # 2x2\n",
    "\n",
    "B = np.array([[3, -2],\n",
    "              [2,  1]], float) # 2x2\n",
    "\n",
    "C = np.array([[1],\n",
    "              [2],\n",
    "              [3]], float)  # 3x1\n",
    "\n",
    "D = np.array([[1, 3, 1],\n",
    "              [-2, 1, -1]], float)  # 2x3\n",
    "\n",
    "E = np.array([[3, 1],\n",
    "              [0, 3],\n",
    "              [-2, 2]], float)  # 3x2\n",
    "\n",
    "F = np.array([[ 2, 1,  2],\n",
    "              [-1, 3, -2]], float)  # 2x3\n",
    "\n",
    "# Part A\n",
    "print(\"Part A\")\n",
    "AB = A.dot(B)\n",
    "print(\"AB = \", AB)\n",
    "\n",
    "# CD: check\n",
    "try:\n",
    "    CD = C.dot(D)\n",
    "    print(\"CD = \", CD)\n",
    "except ValueError as e:\n",
    "    print(\"CD not defined:\", e)\n",
    "\n",
    "EF = E.dot(F)\n",
    "print(\"EF =\\n\", EF)\n",
    "\n",
    "# Part B \n",
    "print(\"Part B\")\n",
    "ATB = A.T.dot(B)\n",
    "print(\"A^T B = \", ATB)\n",
    "\n",
    "# B D^T\n",
    "try:\n",
    "    BDT = B.dot(D.T)\n",
    "    print(\"B D^T = \", BDT)\n",
    "except ValueError as e:\n",
    "    print(\"B D^T not defined:\", e)\n",
    "\n",
    "# D^T F^T\n",
    "try:\n",
    "    DTFT = D.T.dot(F.T)\n",
    "    print(\"D^T F^T = \", DTFT)\n",
    "except ValueError as e:\n",
    "    print(\"D^T F^T not defined:\", e)\n"
   ]
  },
  {
   "cell_type": "code",
   "execution_count": 6,
   "id": "04500b8e-075f-4471-b1aa-89e29c2be134",
   "metadata": {},
   "outputs": [
    {
     "name": "stdout",
     "output_type": "stream",
     "text": [
      "Matrix M =  [[1. 0. 1.]\n",
      " [2. 2. 3.]\n",
      " [1. 2. 4.]]\n",
      "Inverse of M (M^{-1}) =  [[ 0.5   0.5  -0.5 ]\n",
      " [-1.25  0.75 -0.25]\n",
      " [ 0.5  -0.5   0.5 ]]\n",
      "M * M^{-1} =  [[1. 0. 0.]\n",
      " [0. 1. 0.]\n",
      " [0. 0. 1.]]\n",
      "M^{-1} * M =  [[1. 0. 0.]\n",
      " [0. 1. 0.]\n",
      " [0. 0. 1.]]\n"
     ]
    }
   ],
   "source": [
    "M = np.array([[1, 0, 1],\n",
    "              [2, 2, 3],\n",
    "              [1, 2, 4]], dtype=float)\n",
    "\n",
    "print(\"Matrix M = \", M)\n",
    "\n",
    "# Compute the inverse using NumPy\n",
    "M_inv = inv(M)\n",
    "print(\"Inverse of M (M^{-1}) = \", M_inv)\n",
    "\n",
    "# Verify that M * M^{-1} = I and M^{-1} * M = I\n",
    "print(\"M * M^{-1} = \", M.dot(M_inv))\n",
    "print(\"M^{-1} * M = \", M_inv.dot(M))"
   ]
  },
  {
   "cell_type": "code",
   "execution_count": 7,
   "id": "d3653bf9-1818-47ed-a701-f3810ce79e0c",
   "metadata": {},
   "outputs": [
    {
     "name": "stdout",
     "output_type": "stream",
     "text": [
      "P =  [[ 0.42857143 -0.28571429 -0.85714286]\n",
      " [-0.85714286 -0.42857143 -0.28571429]\n",
      " [-0.28571429  0.85714286 -0.42857143]]\n",
      "P^T =  [[ 0.42857143 -0.85714286 -0.28571429]\n",
      " [-0.28571429 -0.42857143  0.85714286]\n",
      " [-0.85714286 -0.28571429 -0.42857143]]\n",
      "P P^T =  [[ 1.00000000e+00 -2.77555756e-17  0.00000000e+00]\n",
      " [-2.77555756e-17  1.00000000e+00 -1.38777878e-17]\n",
      " [ 0.00000000e+00 -1.38777878e-17  1.00000000e+00]]\n",
      "P^T P =  [[ 1.00000000e+00  2.77555756e-17 -1.38777878e-17]\n",
      " [ 2.77555756e-17  1.00000000e+00  0.00000000e+00]\n",
      " [-1.38777878e-17  0.00000000e+00  1.00000000e+00]]\n",
      "Is P orthogonal (P P^T == I)? True\n",
      "Is P orthogonal (P^T P == I)? True\n"
     ]
    }
   ],
   "source": [
    "P = (1/7.0) * np.array([[3, -2, -6],\n",
    "                        [-6, -3, -2],\n",
    "                        [-2,  6, -3]], dtype=float)\n",
    "\n",
    "# Transpose\n",
    "PT = P.T\n",
    "\n",
    "# Products to verify orthogonality\n",
    "PPt = P.dot(PT)\n",
    "PtP = PT.dot(P)\n",
    "\n",
    "print(\"P = \", P)\n",
    "print(\"P^T = \", PT)\n",
    "print(\"P P^T = \", PPt)\n",
    "print(\"P^T P = \", PtP)\n",
    "\n",
    "# Numeric checks (True if orthogonal within numerical tolerance)\n",
    "print(\"Is P orthogonal (P P^T == I)?\", np.allclose(PPt, np.eye(3), atol=1e-10))\n",
    "print(\"Is P orthogonal (P^T P == I)?\", np.allclose(PtP, np.eye(3), atol=1e-10))"
   ]
  },
  {
   "cell_type": "code",
   "execution_count": 9,
   "id": "05860983-2893-453e-8c6e-ed98e23441fb",
   "metadata": {},
   "outputs": [
    {
     "name": "stdout",
     "output_type": "stream",
     "text": [
      "A =  [[-1.  3.  5.  2.]\n",
      " [ 1.  9.  8.  4.]\n",
      " [ 0.  1.  0.  1.]\n",
      " [ 2.  1.  1. -1.]]\n",
      "b =  [10. 15.  2. -3.]\n",
      "det(A) =  14.000000000000004\n",
      "Solution x = [x1, x2, x3, x4]^T =  [-1.00000000e+00  7.31441052e-16  1.00000000e+00  2.00000000e+00]\n"
     ]
    }
   ],
   "source": [
    "A = np.array([\n",
    "    [-1,  3,  5,  2],\n",
    "    [ 1,  9,  8,  4],\n",
    "    [ 0,  1,  0,  1],\n",
    "    [ 2,  1,  1, -1]\n",
    "], dtype=float)\n",
    "\n",
    "b = np.array([10, 15, 2, -3], dtype=float)\n",
    "\n",
    "print(\"A = \", A)\n",
    "print(\"b = \", b)\n",
    "\n",
    "# Determinant check\n",
    "detA = det(A)\n",
    "print(\"det(A) = \", detA)\n",
    "\n",
    "if abs(detA) < 1e-12:\n",
    "    print(\"Determinant is (nearly) zero; the system may be singular or have infinite/no solutions.\")\n",
    "else:\n",
    "    # Solve and verify\n",
    "    x = solve(A, b)\n",
    "    print(\"Solution x = [x1, x2, x3, x4]^T = \", x)"
   ]
  },
  {
   "cell_type": "code",
   "execution_count": 17,
   "id": "b1ebb8d8-0f99-48c4-8a9d-3df5d2b9ab62",
   "metadata": {},
   "outputs": [
    {
     "name": "stdout",
     "output_type": "stream",
     "text": [
      "For b1 = [1. 2. 0. 1.]\n",
      "x1 = [0.49999857 0.74999928 0.24999928 0.49999964]\n",
      "For b2 = [ 4.  2. 10. -2.]\n",
      "x2 = [2.08333015 1.16666508 3.16666508 0.58333254]\n"
     ]
    }
   ],
   "source": [
    "A = np.array([[ 4, -1, -1,  0],\n",
    "              [-1,  4,  0, -1],\n",
    "              [-1,  0,  4, -1],\n",
    "              [ 0, -1, -1,  4]], dtype=float)\n",
    "\n",
    "b1 = np.array([1, 2, 0, 1], dtype=float)\n",
    "b2 = np.array([4, 2, 10, -2], dtype=float)\n",
    "\n",
    "# Gauss–Seidel function\n",
    "def gauss_seidel(A, b, tol=1e-5, max_iter=10000):\n",
    "    n = len(b)\n",
    "    x = np.zeros(n)\n",
    "    for k in range(max_iter):\n",
    "        x_old = x.copy()\n",
    "        for i in range(n):\n",
    "            s1 = np.dot(A[i, :i], x[:i])\n",
    "            s2 = np.dot(A[i, i+1:], x_old[i+1:])\n",
    "            x[i] = (b[i] - s1 - s2) / A[i, i]\n",
    "        if np.linalg.norm(x - x_old, np.inf) < tol:\n",
    "            return x    \n",
    "    \n",
    "\n",
    "# Call it \n",
    "x1 = gauss_seidel(A, b1)\n",
    "x2 = gauss_seidel(A, b2)\n",
    "\n",
    "print(\"For b1 =\", b1)\n",
    "print(\"x1 =\", x1)\n",
    "print(\"For b2 =\", b2)\n",
    "print(\"x2 =\", x2)"
   ]
  },
  {
   "cell_type": "code",
   "execution_count": 18,
   "id": "3b572239-775f-4fb1-9a7b-f98bb4c5893f",
   "metadata": {},
   "outputs": [
    {
     "name": "stdout",
     "output_type": "stream",
     "text": [
      "L =  [[1.  0.  0. ]\n",
      " [0.5 1.  0. ]\n",
      " [0.5 2.5 1. ]]\n",
      "U =  [[  2.     2.     3.  ]\n",
      " [  0.     2.     7.5 ]\n",
      " [  0.     0.   -20.25]]\n",
      "Determinant from LU decomposition =  -81.0\n",
      "Inverse of A using LU decomposition =  [[ 0.66666667 -0.22222222 -0.11111111]\n",
      " [-0.11111111  0.03703704  0.18518519]\n",
      " [-0.03703704  0.12345679 -0.04938272]]\n",
      "Check with np.linalg.inv(A):  [[ 0.66666667 -0.22222222 -0.11111111]\n",
      " [-0.11111111  0.03703704  0.18518519]\n",
      " [-0.03703704  0.12345679 -0.04938272]]\n",
      "Check determinant with np.linalg.det(A):  -80.99999999999996\n"
     ]
    }
   ],
   "source": [
    "A = np.array([[2, 2, 3],\n",
    "              [1, 3, 9],\n",
    "              [1, 6, 0]], dtype=float)\n",
    "\n",
    "# Doolittle LU Decomposition\n",
    "def lu_doolittle(A):\n",
    "    n = len(A)\n",
    "    L = np.eye(n)\n",
    "    U = np.zeros((n, n))\n",
    "    for i in range(n):\n",
    "        for k in range(i, n):\n",
    "            U[i, k] = A[i, k] - sum(L[i, j] * U[j, k] for j in range(i))\n",
    "        for k in range(i + 1, n):\n",
    "            L[k, i] = (A[k, i] - sum(L[k, j] * U[j, i] for j in range(i))) / U[i, i]\n",
    "    return L, U\n",
    "\n",
    "# Perform LU decomposition\n",
    "L, U = lu_doolittle(A)\n",
    "\n",
    "print(\"L = \", L)\n",
    "print(\"U = \", U)\n",
    "\n",
    "# Determinant from LU\n",
    "# Equation (4.102): det(A) = product of diagonal elements of U\n",
    "det_A = np.prod(np.diag(U))\n",
    "print(\"Determinant from LU decomposition = \", det_A)\n",
    "\n",
    "# Inverse from LU\n",
    "# Equation (4.99): solve A * X = I using LU factors\n",
    "n = A.shape[0]\n",
    "I = np.eye(n)\n",
    "A_inv = np.zeros_like(A)\n",
    "\n",
    "# Forward and backward substitution to get each column of A^-1\n",
    "for col in range(n):\n",
    "    e = I[:, col]\n",
    "\n",
    "    # Forward solve: L y = e\n",
    "    y = np.zeros(n)\n",
    "    for i in range(n):\n",
    "        y[i] = e[i] - np.dot(L[i, :i], y[:i])\n",
    "\n",
    "    # Backward solve: U x = y\n",
    "    x = np.zeros(n)\n",
    "    for i in range(n - 1, -1, -1):\n",
    "        x[i] = (y[i] - np.dot(U[i, i + 1:], x[i + 1:])) / U[i, i]\n",
    "\n",
    "    A_inv[:, col] = x\n",
    "\n",
    "print(\"Inverse of A using LU decomposition = \", A_inv)\n",
    "\n",
    "print(\"Check with np.linalg.inv(A): \", np.linalg.inv(A))\n",
    "print(\"Check determinant with np.linalg.det(A): \", np.linalg.det(A))"
   ]
  },
  {
   "cell_type": "code",
   "execution_count": 27,
   "id": "1459be27-85fa-4162-b31e-241f074cc66c",
   "metadata": {},
   "outputs": [
    {
     "name": "stdout",
     "output_type": "stream",
     "text": [
      "Residual α = [0.001343 0.001572] rα = 0.0020675669275744828\n",
      "Residual β = [1.e-06 0.e+00] rβ =  9.99999999945489e-07\n",
      "det(A) =  1.000000000122681e-06\n",
      "Exact solution =  [ 1. -1.]\n"
     ]
    }
   ],
   "source": [
    "A = np.array([[0.780, 0.563],\n",
    "               [0.913,0.659]], dtype=float)\n",
    "b = np.array([0.217,0.254], dtype=float)\n",
    "x_alpha = np.array([0.999, -1.001], dtype=float)\n",
    "x_beta = np.array([0.341, -0.087], dtype=float)\n",
    "\n",
    "r_alpha = b - A.dot(x_alpha)\n",
    "r_beta = b - A.dot(x_beta)\n",
    "\n",
    "print(\"Residual α =\", r_alpha, \"rα =\", np.linalg.norm(r_alpha))\n",
    "print(\"Residual β =\", r_beta, \"rβ = \", np.linalg.norm(r_beta)) \n",
    "# Not really. x_alpha is more accurate (closer to [1, -1])\n",
    "print(\"det(A) = \", np.linalg.det(A))\n",
    "# Determinant is very small, so A is nearly singular\n",
    "print(\"Exact solution = \", np.linalg.solve(A, b))\n",
    "# This confirms that x_alpha is much closer to the true solution than x_beta"
   ]
  },
  {
   "cell_type": "code",
   "execution_count": 34,
   "id": "4b3a1933-eee7-4e2b-b2c9-d4d5e483617d",
   "metadata": {},
   "outputs": [
    {
     "name": "stdout",
     "output_type": "stream",
     "text": [
      "Solution x =  [ 1.00004295 -1.0000595 ]\n",
      "Residual b - A x =  [-3.76749465e-11  3.21864757e-11]\n"
     ]
    }
   ],
   "source": [
    "def gram_schmidt(A):\n",
    "    m, n = A.shape\n",
    "    Q = np.zeros((m, n), dtype=float)\n",
    "    R = np.zeros((n, n), dtype=float)\n",
    "\n",
    "    for j in range(n):\n",
    "        v = A[:, j].copy()\n",
    "        for i in range(j):\n",
    "            R[i, j] = np.dot(Q[:, i], A[:, j])\n",
    "            v -= R[i, j] * Q[:, i]\n",
    "        R[j, j] = np.linalg.norm(v)\n",
    "        if R[j, j] == 0:\n",
    "            raise ValueError(\"Matrix is rank deficient\")\n",
    "        Q[:, j] = v / R[j, j]\n",
    "\n",
    "    return Q, R\n",
    "\n",
    "# Example usage\n",
    "A = np.array([[0.780, 0.563],\n",
    "              [0.913, 0.659]], dtype=float)\n",
    "b = np.array([0.217, 0.254], dtype=float)\n",
    "\n",
    "# QR decomposition\n",
    "Q, R = gram_schmidt(A)\n",
    "\n",
    "# Compute Q^T b\n",
    "y = np.dot(Q.T, b)\n",
    "\n",
    "# Solve R x = y directly (since R is 2x2)\n",
    "x = np.zeros_like(y)\n",
    "x[1] = y[1] / R[1, 1]          # Solve for last variable\n",
    "x[0] = (y[0] - R[0, 1]*x[1]) / R[0, 0]  # Solve for first variable\n",
    "\n",
    "print(\"Solution x = \", x)\n",
    "print(\"Residual b - A x = \", b - A @ x)"
   ]
  },
  {
   "cell_type": "code",
   "execution_count": null,
   "id": "9c026429-ed9b-439e-acee-e74b307ed996",
   "metadata": {},
   "outputs": [],
   "source": []
  },
  {
   "cell_type": "code",
   "execution_count": null,
   "id": "1f3e8bb1-d6ab-4d6c-97c0-6ad19d10d4e8",
   "metadata": {},
   "outputs": [],
   "source": []
  }
 ],
 "metadata": {
  "kernelspec": {
   "display_name": "Python [conda env:base] *",
   "language": "python",
   "name": "conda-base-py"
  },
  "language_info": {
   "codemirror_mode": {
    "name": "ipython",
    "version": 3
   },
   "file_extension": ".py",
   "mimetype": "text/x-python",
   "name": "python",
   "nbconvert_exporter": "python",
   "pygments_lexer": "ipython3",
   "version": "3.13.5"
  }
 },
 "nbformat": 4,
 "nbformat_minor": 5
}
