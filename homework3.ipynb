{
 "cells": [
  {
   "cell_type": "code",
   "execution_count": 14,
   "id": "eb7b115e-9e86-4376-b00f-39982a11642f",
   "metadata": {},
   "outputs": [],
   "source": [
    "import numpy as np\n",
    "from numpy.linalg import inv, det\n",
    "from numpy.linalg import solve\n",
    "from numpy.linalg import norm"
   ]
  },
  {
   "cell_type": "code",
   "execution_count": 15,
   "id": "fa263b91-a9f5-4f67-ae87-5b2a51497c6f",
   "metadata": {},
   "outputs": [
    {
     "name": "stdout",
     "output_type": "stream",
     "text": [
      "AB =\n",
      " [[ 7.  0.]\n",
      " [ 7. -7.]]\n",
      "CD not defined: shapes (3,1) and (2,3) not aligned: 1 (dim 1) != 2 (dim 0)\n",
      "D*C =\n",
      " [[10.]\n",
      " [-3.]]\n",
      "EF =\n",
      " [[ 5.  6.  4.]\n",
      " [-3.  9. -6.]\n",
      " [-6.  4. -8.]]\n",
      "A^T * B =\n",
      " [[ 9.  1.]\n",
      " [ 4. -5.]]\n",
      "B*D^T not defined: shapes (2,2) and (3,2) not aligned: 2 (dim 1) != 3 (dim 0)\n",
      "D^T * F^T not defined: shapes (3,2) and (3,2) not aligned: 2 (dim 1) != 3 (dim 0)\n"
     ]
    }
   ],
   "source": [
    "A = np.array([[1,2],[3,-1]], dtype=float)\n",
    "B = np.array([[3,-2],[2,1]], dtype=float)\n",
    "C = np.array([[1],[2],[3]], dtype=float)\n",
    "D = np.array([[1,3,1],[-2,1,-1]], dtype=float)\n",
    "E = np.array([[3,1],[0,3],[-2,2]], dtype=float)\n",
    "F = np.array([[2,1,2],[-1,3,-2]], dtype=float)\n",
    "\n",
    "# A) Products\n",
    "AB = A.dot(B)\n",
    "print(\"AB =\\n\", AB)\n",
    "\n",
    "try:\n",
    "    CD = C.dot(D)\n",
    "except Exception as e:\n",
    "    print(\"CD not defined:\", e)\n",
    "\n",
    "DC = D.dot(C)\n",
    "print(\"D*C =\\n\", DC)\n",
    "EF = E.dot(F)\n",
    "print(\"EF =\\n\", EF)\n",
    "\n",
    "# B) Products with transposes\n",
    "ATB = A.T.dot(B)\n",
    "print(\"A^T * B =\\n\", ATB)\n",
    "\n",
    "try:\n",
    "    BDT = B.dot(D.T)\n",
    "except Exception as e:\n",
    "    print(\"B*D^T not defined:\", e)\n",
    "\n",
    "try:\n",
    "    DTFT = D.T.dot(F.T)\n",
    "except Exception as e:\n",
    "    print(\"D^T * F^T not defined:\", e)\n"
   ]
  },
  {
   "cell_type": "code",
   "execution_count": 16,
   "id": "04500b8e-075f-4471-b1aa-89e29c2be134",
   "metadata": {},
   "outputs": [
    {
     "name": "stdout",
     "output_type": "stream",
     "text": [
      "M^-1 =\n",
      " [[ 0.5   0.5  -0.5 ]\n",
      " [-1.25  0.75 -0.25]\n",
      " [ 0.5  -0.5   0.5 ]]\n",
      "M * M^-1 =\n",
      " [[1. 0. 0.]\n",
      " [0. 1. 0.]\n",
      " [0. 0. 1.]]\n",
      "det(M) = 4.0\n"
     ]
    }
   ],
   "source": [
    "M = np.array([[1,0,1],[2,2,3],[1,2,4]], dtype=float)\n",
    "M_inv = inv(M)\n",
    "print(\"M^-1 =\\n\", M_inv)\n",
    "print(\"M * M^-1 =\\n\", M.dot(M_inv))\n",
    "print(\"det(M) =\", det(M))"
   ]
  },
  {
   "cell_type": "code",
   "execution_count": 17,
   "id": "d3653bf9-1818-47ed-a701-f3810ce79e0c",
   "metadata": {},
   "outputs": [
    {
     "name": "stdout",
     "output_type": "stream",
     "text": [
      "P^T * P =\n",
      " [[ 1.00000000e+00  2.77555756e-17 -1.38777878e-17]\n",
      " [ 2.77555756e-17  1.00000000e+00  0.00000000e+00]\n",
      " [-1.38777878e-17  0.00000000e+00  1.00000000e+00]]\n",
      "P * P^T =\n",
      " [[ 1.00000000e+00 -2.77555756e-17  0.00000000e+00]\n",
      " [-2.77555756e-17  1.00000000e+00 -1.38777878e-17]\n",
      " [ 0.00000000e+00 -1.38777878e-17  1.00000000e+00]]\n",
      "Is P orthogonal? True\n"
     ]
    }
   ],
   "source": [
    "P = (1/7.0) * np.array([[3,-2,-6],[-6,-3,-2],[-2,6,-3]], dtype=float)\n",
    "PT = P.T\n",
    "print(\"P^T * P =\\n\", PT.dot(P))\n",
    "print(\"P * P^T =\\n\", P.dot(PT))\n",
    "print(\"Is P orthogonal?\", np.allclose(P.dot(PT), np.eye(3)))\n"
   ]
  },
  {
   "cell_type": "code",
   "execution_count": 18,
   "id": "05860983-2893-453e-8c6e-ed98e23441fb",
   "metadata": {},
   "outputs": [
    {
     "name": "stdout",
     "output_type": "stream",
     "text": [
      "det(A4) = 14.000000000000004\n",
      "Solution x = [-1.00000000e+00  7.31441052e-16  1.00000000e+00  2.00000000e+00]\n"
     ]
    }
   ],
   "source": [
    "A4 = np.array([[-1,3,5,2],[1,9,8,4],[0,1,0,1],[2,1,1,-1]], dtype=float)\n",
    "b4 = np.array([10,15,2,-3], dtype=float)\n",
    "detA4 = det(A4)\n",
    "print(\"det(A4) =\", detA4)\n",
    "x4 = solve(A4, b4)\n",
    "print(\"Solution x =\", x4)"
   ]
  },
  {
   "cell_type": "code",
   "execution_count": 19,
   "id": "b1ebb8d8-0f99-48c4-8a9d-3df5d2b9ab62",
   "metadata": {},
   "outputs": [
    {
     "name": "stdout",
     "output_type": "stream",
     "text": [
      "b = [1. 2. 0. 1.] => x = [0.49999857 0.74999928 0.24999928 0.49999964] in 10 iterations\n",
      "b = [ 4.  2. 10. -2.] => x = [2.08333015 1.16666508 3.16666508 0.58333254] in 10 iterations\n"
     ]
    }
   ],
   "source": [
    "A5 = np.array([[4,-1,-1,0],[-1,4,0,-1],[-1,0,4,-1],[0,-1,-1,4]], dtype=float)\n",
    "b5a = np.array([1,2,0,1], dtype=float)\n",
    "b5b = np.array([4,2,10,-2], dtype=float)\n",
    "\n",
    "def gauss_seidel(A, b, tol=1e-5, maxiter=10000):\n",
    "    n = len(b)\n",
    "    x = np.zeros(n)\n",
    "    for k in range(maxiter):\n",
    "        x_old = x.copy()\n",
    "        for i in range(n):\n",
    "            s1 = np.dot(A[i,:i], x[:i])\n",
    "            s2 = np.dot(A[i,i+1:], x_old[i+1:])\n",
    "            x[i] = (b[i] - s1 - s2) / A[i,i]\n",
    "        if norm(x - x_old, np.inf) < tol:\n",
    "            return x, k+1\n",
    "    return x, maxiter\n",
    "\n",
    "x5a, iters_a = gauss_seidel(A5, b5a)\n",
    "x5b, iters_b = gauss_seidel(A5, b5b)\n",
    "print(\"b =\", b5a, \"=> x =\", x5a, \"in\", iters_a, \"iterations\")\n",
    "print(\"b =\", b5b, \"=> x =\", x5b, \"in\", iters_b, \"iterations\")"
   ]
  },
  {
   "cell_type": "code",
   "execution_count": 20,
   "id": "3b572239-775f-4fb1-9a7b-f98bb4c5893f",
   "metadata": {},
   "outputs": [
    {
     "name": "stdout",
     "output_type": "stream",
     "text": [
      "L =\n",
      " [[1.   0.   0.  ]\n",
      " [0.75 1.   0.  ]\n",
      " [0.5  2.   1.  ]]\n",
      "U =\n",
      " [[ 4.    3.    2.  ]\n",
      " [ 0.   -0.25 -0.5 ]\n",
      " [ 0.    0.    3.  ]]\n",
      "det(A) = -3.0 vs numpy: -2.9999999999999996\n"
     ]
    }
   ],
   "source": [
    "def lu_doolittle(A):\n",
    "    A = A.astype(float)\n",
    "    n = A.shape[0]\n",
    "    L = np.eye(n)\n",
    "    U = np.zeros((n,n))\n",
    "    for i in range(n):\n",
    "        for k in range(i, n):\n",
    "            U[i,k] = A[i,k] - sum(L[i,j]*U[j,k] for j in range(i))\n",
    "        for k in range(i+1, n):\n",
    "            L[k,i] = (A[k,i] - sum(L[k,j]*U[j,i] for j in range(i))) / U[i,i]\n",
    "    return L, U\n",
    "\n",
    "A6 = np.array([[4,3,2],[3,2,1],[2,1,3]], dtype=float)\n",
    "L6, U6 = lu_doolittle(A6)\n",
    "print(\"L =\\n\", L6)\n",
    "print(\"U =\\n\", U6)\n",
    "print(\"det(A) =\", np.prod(np.diag(U6)), \"vs numpy:\", det(A6))"
   ]
  },
  {
   "cell_type": "code",
   "execution_count": 21,
   "id": "1459be27-85fa-4162-b31e-241f074cc66c",
   "metadata": {},
   "outputs": [
    {
     "name": "stdout",
     "output_type": "stream",
     "text": [
      "Residual α = [0.001343 0.001572] ||rα|| = 0.0020675669275744828\n",
      "Residual β = [1.e-06 0.e+00] ||rβ|| = 9.99999999945489e-07\n",
      "det(A) = 1.000000000122681e-06\n",
      "Exact solution = [ 1. -1.]\n"
     ]
    }
   ],
   "source": [
    "A7 = np.array([[0.780, 0.563],[0.913,0.659]], dtype=float)\n",
    "b7 = np.array([0.217,0.254], dtype=float)\n",
    "x_alpha = np.array([0.999, -1.001], dtype=float)\n",
    "x_beta = np.array([0.341, -0.087], dtype=float)\n",
    "\n",
    "r_alpha = b7 - A7.dot(x_alpha)\n",
    "r_beta = b7 - A7.dot(x_beta)\n",
    "\n",
    "print(\"Residual α =\", r_alpha, \"||rα|| =\", np.linalg.norm(r_alpha))\n",
    "print(\"Residual β =\", r_beta, \"||rβ|| =\", np.linalg.norm(r_beta))\n",
    "print(\"det(A) =\", det(A7))\n",
    "print(\"Exact solution =\", np.linalg.solve(A7,b7))"
   ]
  },
  {
   "cell_type": "code",
   "execution_count": 22,
   "id": "4b3a1933-eee7-4e2b-b2c9-d4d5e483617d",
   "metadata": {},
   "outputs": [
    {
     "name": "stdout",
     "output_type": "stream",
     "text": [
      "A8:\n",
      " [[ 3. -1.  2.]\n",
      " [ 2.  0. -1.]\n",
      " [ 1.  4.  3.]]\n",
      "Q8:\n",
      " [[ 0.80178373 -0.29512821  0.51965584]\n",
      " [ 0.53452248 -0.03472097 -0.84444074]\n",
      " [ 0.26726124  0.95482658  0.12991396]]\n",
      "R8:\n",
      " [[3.74165739 0.26726124 1.87082869]\n",
      " [0.         4.11443452 2.30894427]\n",
      " [0.         0.         2.27349431]]\n",
      "x from QR: [ 0.82857143  0.8        -0.34285714]\n",
      "x direct: [ 0.82857143  0.8        -0.34285714]\n",
      "Are they close?: True\n"
     ]
    }
   ],
   "source": [
    "def classical_gram_schmidt(A):\n",
    "    A = A.astype(float)\n",
    "    m, n = A.shape\n",
    "    Q = np.zeros((m,n))\n",
    "    R = np.zeros((n,n))\n",
    "    for j in range(n):\n",
    "        v = A[:,j].copy()\n",
    "        for i in range(j):\n",
    "            R[i,j] = Q[:,i].dot(A[:,j])\n",
    "            v = v - R[i,j]*Q[:,i]\n",
    "        R[j,j] = norm(v)\n",
    "        Q[:,j] = v / R[j,j] if R[j,j] != 0 else v\n",
    "    return Q, R\n",
    "\n",
    "A8 = np.array([[3., -1., 2.],[2., 0., -1.],[1., 4., 3.]])\n",
    "b8 = np.array([1., 2., 3.])\n",
    "Q8, R8 = classical_gram_schmidt(A8)\n",
    "x_qr = solve(R8, Q8.T.dot(b8))\n",
    "x_direct = solve(A8, b8)\n",
    "print(\"A8:\\n\", A8)\n",
    "print(\"Q8:\\n\", Q8)\n",
    "print(\"R8:\\n\", R8)\n",
    "print(\"x from QR:\", x_qr)\n",
    "print(\"x direct:\", x_direct)\n",
    "print(\"Are they close?:\", np.allclose(x_qr, x_direct))"
   ]
  },
  {
   "cell_type": "code",
   "execution_count": 23,
   "id": "9c026429-ed9b-439e-acee-e74b307ed996",
   "metadata": {},
   "outputs": [
    {
     "name": "stdout",
     "output_type": "stream",
     "text": [
      "Mx:\n",
      " [[0.        +0.j 0.70710678+0.j 0.        +0.j]\n",
      " [0.70710678+0.j 0.        +0.j 0.70710678+0.j]\n",
      " [0.        +0.j 0.70710678+0.j 0.        +0.j]]\n",
      "My:\n",
      " [[0.+0.j         0.-0.70710678j 0.+0.j        ]\n",
      " [0.+0.70710678j 0.+0.j         0.-0.70710678j]\n",
      " [0.+0.j         0.+0.70710678j 0.+0.j        ]]\n",
      "Mz:\n",
      " [[ 1.+0.j  0.+0.j  0.+0.j]\n",
      " [ 0.+0.j  0.+0.j  0.+0.j]\n",
      " [ 0.+0.j  0.+0.j -1.+0.j]]\n",
      "[Mx,My]:\n",
      " [[0.+1.j 0.+0.j 0.+0.j]\n",
      " [0.+0.j 0.+0.j 0.+0.j]\n",
      " [0.+0.j 0.+0.j 0.-1.j]]\n",
      "i * Mz:\n",
      " [[ 0.+1.j  0.+0.j  0.+0.j]\n",
      " [ 0.+0.j  0.+0.j  0.+0.j]\n",
      " [ 0.+0.j  0.+0.j -0.-1.j]]\n",
      "Check [Mx,My] ~ i Mz?: True\n",
      "[My,Mz] ?= i Mx : True\n",
      "[Mz,Mx] ?= i My : True\n",
      "M^2 (Mx^2 + My^2 + Mz^2):\n",
      " [[2.+0.j 0.+0.j 0.+0.j]\n",
      " [0.+0.j 2.+0.j 0.+0.j]\n",
      " [0.+0.j 0.+0.j 2.+0.j]]\n",
      "2 * I:\n",
      " [[2. 0. 0.]\n",
      " [0. 2. 0.]\n",
      " [0. 0. 2.]]\n",
      "Check M^2 == 2I?: True\n",
      "[L+, L-]:\n",
      " [[ 2.+0.j  0.+0.j  0.+0.j]\n",
      " [ 0.+0.j  0.+0.j  0.+0.j]\n",
      " [ 0.+0.j  0.+0.j -2.+0.j]]\n",
      "2 Mz:\n",
      " [[ 2.+0.j  0.+0.j  0.+0.j]\n",
      " [ 0.+0.j  0.+0.j  0.+0.j]\n",
      " [ 0.+0.j  0.+0.j -2.+0.j]]\n",
      "Check [L+,L-] == 2Mz?: True\n"
     ]
    }
   ],
   "source": [
    "i = 1j\n",
    "Mx = (1/np.sqrt(2)) * np.array([[0,1,0],[1,0,1],[0,1,0]], dtype=complex)\n",
    "My = (1/np.sqrt(2)) * np.array([[0,-i,0],[i,0,-i],[0,i,0]], dtype=complex)\n",
    "Mz = np.array([[1,0,0],[0,0,0],[0,0,-1]], dtype=complex)\n",
    "print(\"Mx:\\n\", Mx)\n",
    "print(\"My:\\n\", My)\n",
    "print(\"Mz:\\n\", Mz)\n",
    "\n",
    "comm_xy = Mx.dot(My) - My.dot(Mx)\n",
    "print(\"[Mx,My]:\\n\", comm_xy)\n",
    "print(\"i * Mz:\\n\", i*Mz)\n",
    "print(\"Check [Mx,My] ~ i Mz?:\", np.allclose(comm_xy, i*Mz))\n",
    "\n",
    "comm_yz = My.dot(Mz) - Mz.dot(My)\n",
    "print(\"[My,Mz] ?= i Mx :\", np.allclose(comm_yz, i*Mx))\n",
    "comm_zx = Mz.dot(Mx) - Mx.dot(Mz)\n",
    "print(\"[Mz,Mx] ?= i My :\", np.allclose(comm_zx, i*My))\n",
    "\n",
    "M2 = Mx.dot(Mx) + My.dot(My) + Mz.dot(Mz)\n",
    "print(\"M^2 (Mx^2 + My^2 + Mz^2):\\n\", M2)\n",
    "print(\"2 * I:\\n\", 2*np.eye(3))\n",
    "print(\"Check M^2 == 2I?:\", np.allclose(M2, 2*np.eye(3)))\n",
    "\n",
    "Lp = Mx + i*My\n",
    "Lm = Mx - i*My\n",
    "comm_LpLm = Lp.dot(Lm) - Lm.dot(Lp)\n",
    "print(\"[L+, L-]:\\n\", comm_LpLm)\n",
    "print(\"2 Mz:\\n\", 2*Mz)\n",
    "print(\"Check [L+,L-] == 2Mz?:\", np.allclose(comm_LpLm, 2*Mz))"
   ]
  },
  {
   "cell_type": "code",
   "execution_count": 24,
   "id": "1f3e8bb1-d6ab-4d6c-97c0-6ad19d10d4e8",
   "metadata": {},
   "outputs": [
    {
     "name": "stdout",
     "output_type": "stream",
     "text": [
      "L+:\n",
      " [[0. 1. 0.]\n",
      " [0. 0. 1.]\n",
      " [0. 0. 0.]]\n",
      "L-:\n",
      " [[0. 0. 0.]\n",
      " [1. 0. 0.]\n",
      " [0. 1. 0.]]\n",
      "L+ | -1> = [0. 1. 0.]\n",
      "L- | -1> = [0. 0. 0.]\n",
      "L+ | 0> = [1. 0. 0.]\n",
      "L- | 0> = [0. 0. 1.]\n",
      "L+ | 1> = [0. 0. 0.]\n",
      "L- | 1> = [0. 1. 0.]\n"
     ]
    }
   ],
   "source": [
    "Lp_simple = np.array([[0,1,0],[0,0,1],[0,0,0]], dtype=float)\n",
    "Lm_simple = np.array([[0,0,0],[1,0,0],[0,1,0]], dtype=float)\n",
    "ket_m1 = np.array([0,0,1], dtype=float)\n",
    "ket_0  = np.array([0,1,0], dtype=float)\n",
    "ket_p1 = np.array([1,0,0], dtype=float)\n",
    "\n",
    "print(\"L+:\\n\", Lp_simple)\n",
    "print(\"L-:\\n\", Lm_simple)\n",
    "print(\"L+ | -1> =\", Lp_simple.dot(ket_m1))\n",
    "print(\"L- | -1> =\", Lm_simple.dot(ket_m1))\n",
    "print(\"L+ | 0> =\", Lp_simple.dot(ket_0))\n",
    "print(\"L- | 0> =\", Lm_simple.dot(ket_0))\n",
    "print(\"L+ | 1> =\", Lp_simple.dot(ket_p1))\n",
    "print(\"L- | 1> =\", Lm_simple.dot(ket_p1))"
   ]
  },
  {
   "cell_type": "code",
   "execution_count": null,
   "id": "a97b879a-8ffa-4eb6-919a-44792c256e8d",
   "metadata": {},
   "outputs": [],
   "source": []
  }
 ],
 "metadata": {
  "kernelspec": {
   "display_name": "Python [conda env:base] *",
   "language": "python",
   "name": "conda-base-py"
  },
  "language_info": {
   "codemirror_mode": {
    "name": "ipython",
    "version": 3
   },
   "file_extension": ".py",
   "mimetype": "text/x-python",
   "name": "python",
   "nbconvert_exporter": "python",
   "pygments_lexer": "ipython3",
   "version": "3.13.5"
  }
 },
 "nbformat": 4,
 "nbformat_minor": 5
}
